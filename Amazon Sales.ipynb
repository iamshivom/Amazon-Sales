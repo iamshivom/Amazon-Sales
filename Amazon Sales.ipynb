{
 "cells": [
  {
   "cell_type": "code",
   "execution_count": 1,
   "id": "3441c6ef-49bc-4453-a784-09b208992c5d",
   "metadata": {},
   "outputs": [],
   "source": [
    "import pandas as pd    \n",
    "import numpy as np        \n",
    "import matplotlib.pyplot as plt     \n",
    "import seaborn as sns"
   ]
  },
  {
   "cell_type": "code",
   "execution_count": 2,
   "id": "f1992923-44c7-4a1d-b699-17c7374ca943",
   "metadata": {},
   "outputs": [],
   "source": [
    "data = pd.read_csv(r\"Amazon Sale Report.csv\" ,  low_memory=False)"
   ]
  },
  {
   "cell_type": "code",
   "execution_count": 3,
   "id": "68f8342d-81d8-4078-8ea3-7ade5d72a33f",
   "metadata": {},
   "outputs": [
    {
     "data": {
      "text/html": [
       "<div>\n",
       "<style scoped>\n",
       "    .dataframe tbody tr th:only-of-type {\n",
       "        vertical-align: middle;\n",
       "    }\n",
       "\n",
       "    .dataframe tbody tr th {\n",
       "        vertical-align: top;\n",
       "    }\n",
       "\n",
       "    .dataframe thead th {\n",
       "        text-align: right;\n",
       "    }\n",
       "</style>\n",
       "<table border=\"1\" class=\"dataframe\">\n",
       "  <thead>\n",
       "    <tr style=\"text-align: right;\">\n",
       "      <th></th>\n",
       "      <th>index</th>\n",
       "      <th>Order ID</th>\n",
       "      <th>Date</th>\n",
       "      <th>Status</th>\n",
       "      <th>Fulfilment</th>\n",
       "      <th>Sales Channel</th>\n",
       "      <th>ship-service-level</th>\n",
       "      <th>Style</th>\n",
       "      <th>SKU</th>\n",
       "      <th>Category</th>\n",
       "      <th>...</th>\n",
       "      <th>currency</th>\n",
       "      <th>Amount</th>\n",
       "      <th>ship-city</th>\n",
       "      <th>ship-state</th>\n",
       "      <th>ship-postal-code</th>\n",
       "      <th>ship-country</th>\n",
       "      <th>promotion-ids</th>\n",
       "      <th>B2B</th>\n",
       "      <th>fulfilled-by</th>\n",
       "      <th>Unnamed: 22</th>\n",
       "    </tr>\n",
       "  </thead>\n",
       "  <tbody>\n",
       "    <tr>\n",
       "      <th>0</th>\n",
       "      <td>0</td>\n",
       "      <td>405-8078784-5731545</td>\n",
       "      <td>04-30-22</td>\n",
       "      <td>Cancelled</td>\n",
       "      <td>Merchant</td>\n",
       "      <td>Amazon.in</td>\n",
       "      <td>Standard</td>\n",
       "      <td>SET389</td>\n",
       "      <td>SET389-KR-NP-S</td>\n",
       "      <td>Set</td>\n",
       "      <td>...</td>\n",
       "      <td>INR</td>\n",
       "      <td>647.62</td>\n",
       "      <td>MUMBAI</td>\n",
       "      <td>MAHARASHTRA</td>\n",
       "      <td>400081.0</td>\n",
       "      <td>IN</td>\n",
       "      <td>NaN</td>\n",
       "      <td>False</td>\n",
       "      <td>Easy Ship</td>\n",
       "      <td>NaN</td>\n",
       "    </tr>\n",
       "    <tr>\n",
       "      <th>1</th>\n",
       "      <td>1</td>\n",
       "      <td>171-9198151-1101146</td>\n",
       "      <td>04-30-22</td>\n",
       "      <td>Shipped - Delivered to Buyer</td>\n",
       "      <td>Merchant</td>\n",
       "      <td>Amazon.in</td>\n",
       "      <td>Standard</td>\n",
       "      <td>JNE3781</td>\n",
       "      <td>JNE3781-KR-XXXL</td>\n",
       "      <td>kurta</td>\n",
       "      <td>...</td>\n",
       "      <td>INR</td>\n",
       "      <td>406.00</td>\n",
       "      <td>BENGALURU</td>\n",
       "      <td>KARNATAKA</td>\n",
       "      <td>560085.0</td>\n",
       "      <td>IN</td>\n",
       "      <td>Amazon PLCC Free-Financing Universal Merchant ...</td>\n",
       "      <td>False</td>\n",
       "      <td>Easy Ship</td>\n",
       "      <td>NaN</td>\n",
       "    </tr>\n",
       "    <tr>\n",
       "      <th>2</th>\n",
       "      <td>2</td>\n",
       "      <td>404-0687676-7273146</td>\n",
       "      <td>04-30-22</td>\n",
       "      <td>Shipped</td>\n",
       "      <td>Amazon</td>\n",
       "      <td>Amazon.in</td>\n",
       "      <td>Expedited</td>\n",
       "      <td>JNE3371</td>\n",
       "      <td>JNE3371-KR-XL</td>\n",
       "      <td>kurta</td>\n",
       "      <td>...</td>\n",
       "      <td>INR</td>\n",
       "      <td>329.00</td>\n",
       "      <td>NAVI MUMBAI</td>\n",
       "      <td>MAHARASHTRA</td>\n",
       "      <td>410210.0</td>\n",
       "      <td>IN</td>\n",
       "      <td>IN Core Free Shipping 2015/04/08 23-48-5-108</td>\n",
       "      <td>True</td>\n",
       "      <td>NaN</td>\n",
       "      <td>NaN</td>\n",
       "    </tr>\n",
       "    <tr>\n",
       "      <th>3</th>\n",
       "      <td>3</td>\n",
       "      <td>403-9615377-8133951</td>\n",
       "      <td>04-30-22</td>\n",
       "      <td>Cancelled</td>\n",
       "      <td>Merchant</td>\n",
       "      <td>Amazon.in</td>\n",
       "      <td>Standard</td>\n",
       "      <td>J0341</td>\n",
       "      <td>J0341-DR-L</td>\n",
       "      <td>Western Dress</td>\n",
       "      <td>...</td>\n",
       "      <td>INR</td>\n",
       "      <td>753.33</td>\n",
       "      <td>PUDUCHERRY</td>\n",
       "      <td>PUDUCHERRY</td>\n",
       "      <td>605008.0</td>\n",
       "      <td>IN</td>\n",
       "      <td>NaN</td>\n",
       "      <td>False</td>\n",
       "      <td>Easy Ship</td>\n",
       "      <td>NaN</td>\n",
       "    </tr>\n",
       "    <tr>\n",
       "      <th>4</th>\n",
       "      <td>4</td>\n",
       "      <td>407-1069790-7240320</td>\n",
       "      <td>04-30-22</td>\n",
       "      <td>Shipped</td>\n",
       "      <td>Amazon</td>\n",
       "      <td>Amazon.in</td>\n",
       "      <td>Expedited</td>\n",
       "      <td>JNE3671</td>\n",
       "      <td>JNE3671-TU-XXXL</td>\n",
       "      <td>Top</td>\n",
       "      <td>...</td>\n",
       "      <td>INR</td>\n",
       "      <td>574.00</td>\n",
       "      <td>CHENNAI</td>\n",
       "      <td>TAMIL NADU</td>\n",
       "      <td>600073.0</td>\n",
       "      <td>IN</td>\n",
       "      <td>NaN</td>\n",
       "      <td>False</td>\n",
       "      <td>NaN</td>\n",
       "      <td>NaN</td>\n",
       "    </tr>\n",
       "  </tbody>\n",
       "</table>\n",
       "<p>5 rows × 24 columns</p>\n",
       "</div>"
      ],
      "text/plain": [
       "   index             Order ID      Date                        Status  \\\n",
       "0      0  405-8078784-5731545  04-30-22                     Cancelled   \n",
       "1      1  171-9198151-1101146  04-30-22  Shipped - Delivered to Buyer   \n",
       "2      2  404-0687676-7273146  04-30-22                       Shipped   \n",
       "3      3  403-9615377-8133951  04-30-22                     Cancelled   \n",
       "4      4  407-1069790-7240320  04-30-22                       Shipped   \n",
       "\n",
       "  Fulfilment Sales Channel  ship-service-level    Style              SKU  \\\n",
       "0   Merchant      Amazon.in           Standard   SET389   SET389-KR-NP-S   \n",
       "1   Merchant      Amazon.in           Standard  JNE3781  JNE3781-KR-XXXL   \n",
       "2     Amazon      Amazon.in          Expedited  JNE3371    JNE3371-KR-XL   \n",
       "3   Merchant      Amazon.in           Standard    J0341       J0341-DR-L   \n",
       "4     Amazon      Amazon.in          Expedited  JNE3671  JNE3671-TU-XXXL   \n",
       "\n",
       "        Category  ... currency  Amount    ship-city   ship-state  \\\n",
       "0            Set  ...      INR  647.62       MUMBAI  MAHARASHTRA   \n",
       "1          kurta  ...      INR  406.00    BENGALURU    KARNATAKA   \n",
       "2          kurta  ...      INR  329.00  NAVI MUMBAI  MAHARASHTRA   \n",
       "3  Western Dress  ...      INR  753.33   PUDUCHERRY   PUDUCHERRY   \n",
       "4            Top  ...      INR  574.00      CHENNAI   TAMIL NADU   \n",
       "\n",
       "  ship-postal-code  ship-country  \\\n",
       "0         400081.0            IN   \n",
       "1         560085.0            IN   \n",
       "2         410210.0            IN   \n",
       "3         605008.0            IN   \n",
       "4         600073.0            IN   \n",
       "\n",
       "                                       promotion-ids    B2B  fulfilled-by  \\\n",
       "0                                                NaN  False     Easy Ship   \n",
       "1  Amazon PLCC Free-Financing Universal Merchant ...  False     Easy Ship   \n",
       "2       IN Core Free Shipping 2015/04/08 23-48-5-108   True           NaN   \n",
       "3                                                NaN  False     Easy Ship   \n",
       "4                                                NaN  False           NaN   \n",
       "\n",
       "  Unnamed: 22  \n",
       "0         NaN  \n",
       "1         NaN  \n",
       "2         NaN  \n",
       "3         NaN  \n",
       "4         NaN  \n",
       "\n",
       "[5 rows x 24 columns]"
      ]
     },
     "execution_count": 3,
     "metadata": {},
     "output_type": "execute_result"
    }
   ],
   "source": [
    "data.head()"
   ]
  },
  {
   "cell_type": "code",
   "execution_count": 4,
   "id": "b24f9e17-63ff-4eee-96e2-9fba113cd386",
   "metadata": {},
   "outputs": [
    {
     "data": {
      "text/plain": [
       "(128975, 24)"
      ]
     },
     "execution_count": 4,
     "metadata": {},
     "output_type": "execute_result"
    }
   ],
   "source": [
    "data.shape"
   ]
  },
  {
   "cell_type": "code",
   "execution_count": 5,
   "id": "06a6d8fb-a05f-4d30-ba98-ac644eb3869e",
   "metadata": {},
   "outputs": [
    {
     "name": "stdout",
     "output_type": "stream",
     "text": [
      "<class 'pandas.core.frame.DataFrame'>\n",
      "RangeIndex: 128975 entries, 0 to 128974\n",
      "Data columns (total 24 columns):\n",
      " #   Column              Non-Null Count   Dtype  \n",
      "---  ------              --------------   -----  \n",
      " 0   index               128975 non-null  int64  \n",
      " 1   Order ID            128975 non-null  object \n",
      " 2   Date                128975 non-null  object \n",
      " 3   Status              128975 non-null  object \n",
      " 4   Fulfilment          128975 non-null  object \n",
      " 5   Sales Channel       128975 non-null  object \n",
      " 6   ship-service-level  128975 non-null  object \n",
      " 7   Style               128975 non-null  object \n",
      " 8   SKU                 128975 non-null  object \n",
      " 9   Category            128975 non-null  object \n",
      " 10  Size                128975 non-null  object \n",
      " 11  ASIN                128975 non-null  object \n",
      " 12  Courier Status      122103 non-null  object \n",
      " 13  Qty                 128975 non-null  int64  \n",
      " 14  currency            121180 non-null  object \n",
      " 15  Amount              121180 non-null  float64\n",
      " 16  ship-city           128942 non-null  object \n",
      " 17  ship-state          128942 non-null  object \n",
      " 18  ship-postal-code    128942 non-null  float64\n",
      " 19  ship-country        128942 non-null  object \n",
      " 20  promotion-ids       79822 non-null   object \n",
      " 21  B2B                 128975 non-null  bool   \n",
      " 22  fulfilled-by        39277 non-null   object \n",
      " 23  Unnamed: 22         79925 non-null   object \n",
      "dtypes: bool(1), float64(2), int64(2), object(19)\n",
      "memory usage: 22.8+ MB\n"
     ]
    }
   ],
   "source": [
    "data.info()"
   ]
  },
  {
   "cell_type": "markdown",
   "id": "86d3c83a-219f-4c13-bdc8-be9ce1f7a86f",
   "metadata": {},
   "source": [
    "## Removing index col"
   ]
  },
  {
   "cell_type": "code",
   "execution_count": 7,
   "id": "80bd61e3-06a2-4afc-b1db-a463d06f376b",
   "metadata": {},
   "outputs": [],
   "source": [
    "data.drop(columns=[\"index\"], axis=1, inplace=True)"
   ]
  },
  {
   "cell_type": "code",
   "execution_count": 8,
   "id": "93d213b2-caa5-4a2e-bbfb-e8f55f5ab1ab",
   "metadata": {},
   "outputs": [
    {
     "data": {
      "text/html": [
       "<div>\n",
       "<style scoped>\n",
       "    .dataframe tbody tr th:only-of-type {\n",
       "        vertical-align: middle;\n",
       "    }\n",
       "\n",
       "    .dataframe tbody tr th {\n",
       "        vertical-align: top;\n",
       "    }\n",
       "\n",
       "    .dataframe thead th {\n",
       "        text-align: right;\n",
       "    }\n",
       "</style>\n",
       "<table border=\"1\" class=\"dataframe\">\n",
       "  <thead>\n",
       "    <tr style=\"text-align: right;\">\n",
       "      <th></th>\n",
       "      <th>Order ID</th>\n",
       "      <th>Date</th>\n",
       "      <th>Status</th>\n",
       "      <th>Fulfilment</th>\n",
       "      <th>Sales Channel</th>\n",
       "      <th>ship-service-level</th>\n",
       "      <th>Style</th>\n",
       "      <th>SKU</th>\n",
       "      <th>Category</th>\n",
       "      <th>Size</th>\n",
       "      <th>...</th>\n",
       "      <th>currency</th>\n",
       "      <th>Amount</th>\n",
       "      <th>ship-city</th>\n",
       "      <th>ship-state</th>\n",
       "      <th>ship-postal-code</th>\n",
       "      <th>ship-country</th>\n",
       "      <th>promotion-ids</th>\n",
       "      <th>B2B</th>\n",
       "      <th>fulfilled-by</th>\n",
       "      <th>Unnamed: 22</th>\n",
       "    </tr>\n",
       "  </thead>\n",
       "  <tbody>\n",
       "    <tr>\n",
       "      <th>0</th>\n",
       "      <td>405-8078784-5731545</td>\n",
       "      <td>04-30-22</td>\n",
       "      <td>Cancelled</td>\n",
       "      <td>Merchant</td>\n",
       "      <td>Amazon.in</td>\n",
       "      <td>Standard</td>\n",
       "      <td>SET389</td>\n",
       "      <td>SET389-KR-NP-S</td>\n",
       "      <td>Set</td>\n",
       "      <td>S</td>\n",
       "      <td>...</td>\n",
       "      <td>INR</td>\n",
       "      <td>647.62</td>\n",
       "      <td>MUMBAI</td>\n",
       "      <td>MAHARASHTRA</td>\n",
       "      <td>400081.0</td>\n",
       "      <td>IN</td>\n",
       "      <td>NaN</td>\n",
       "      <td>False</td>\n",
       "      <td>Easy Ship</td>\n",
       "      <td>NaN</td>\n",
       "    </tr>\n",
       "    <tr>\n",
       "      <th>1</th>\n",
       "      <td>171-9198151-1101146</td>\n",
       "      <td>04-30-22</td>\n",
       "      <td>Shipped - Delivered to Buyer</td>\n",
       "      <td>Merchant</td>\n",
       "      <td>Amazon.in</td>\n",
       "      <td>Standard</td>\n",
       "      <td>JNE3781</td>\n",
       "      <td>JNE3781-KR-XXXL</td>\n",
       "      <td>kurta</td>\n",
       "      <td>3XL</td>\n",
       "      <td>...</td>\n",
       "      <td>INR</td>\n",
       "      <td>406.00</td>\n",
       "      <td>BENGALURU</td>\n",
       "      <td>KARNATAKA</td>\n",
       "      <td>560085.0</td>\n",
       "      <td>IN</td>\n",
       "      <td>Amazon PLCC Free-Financing Universal Merchant ...</td>\n",
       "      <td>False</td>\n",
       "      <td>Easy Ship</td>\n",
       "      <td>NaN</td>\n",
       "    </tr>\n",
       "    <tr>\n",
       "      <th>2</th>\n",
       "      <td>404-0687676-7273146</td>\n",
       "      <td>04-30-22</td>\n",
       "      <td>Shipped</td>\n",
       "      <td>Amazon</td>\n",
       "      <td>Amazon.in</td>\n",
       "      <td>Expedited</td>\n",
       "      <td>JNE3371</td>\n",
       "      <td>JNE3371-KR-XL</td>\n",
       "      <td>kurta</td>\n",
       "      <td>XL</td>\n",
       "      <td>...</td>\n",
       "      <td>INR</td>\n",
       "      <td>329.00</td>\n",
       "      <td>NAVI MUMBAI</td>\n",
       "      <td>MAHARASHTRA</td>\n",
       "      <td>410210.0</td>\n",
       "      <td>IN</td>\n",
       "      <td>IN Core Free Shipping 2015/04/08 23-48-5-108</td>\n",
       "      <td>True</td>\n",
       "      <td>NaN</td>\n",
       "      <td>NaN</td>\n",
       "    </tr>\n",
       "    <tr>\n",
       "      <th>3</th>\n",
       "      <td>403-9615377-8133951</td>\n",
       "      <td>04-30-22</td>\n",
       "      <td>Cancelled</td>\n",
       "      <td>Merchant</td>\n",
       "      <td>Amazon.in</td>\n",
       "      <td>Standard</td>\n",
       "      <td>J0341</td>\n",
       "      <td>J0341-DR-L</td>\n",
       "      <td>Western Dress</td>\n",
       "      <td>L</td>\n",
       "      <td>...</td>\n",
       "      <td>INR</td>\n",
       "      <td>753.33</td>\n",
       "      <td>PUDUCHERRY</td>\n",
       "      <td>PUDUCHERRY</td>\n",
       "      <td>605008.0</td>\n",
       "      <td>IN</td>\n",
       "      <td>NaN</td>\n",
       "      <td>False</td>\n",
       "      <td>Easy Ship</td>\n",
       "      <td>NaN</td>\n",
       "    </tr>\n",
       "    <tr>\n",
       "      <th>4</th>\n",
       "      <td>407-1069790-7240320</td>\n",
       "      <td>04-30-22</td>\n",
       "      <td>Shipped</td>\n",
       "      <td>Amazon</td>\n",
       "      <td>Amazon.in</td>\n",
       "      <td>Expedited</td>\n",
       "      <td>JNE3671</td>\n",
       "      <td>JNE3671-TU-XXXL</td>\n",
       "      <td>Top</td>\n",
       "      <td>3XL</td>\n",
       "      <td>...</td>\n",
       "      <td>INR</td>\n",
       "      <td>574.00</td>\n",
       "      <td>CHENNAI</td>\n",
       "      <td>TAMIL NADU</td>\n",
       "      <td>600073.0</td>\n",
       "      <td>IN</td>\n",
       "      <td>NaN</td>\n",
       "      <td>False</td>\n",
       "      <td>NaN</td>\n",
       "      <td>NaN</td>\n",
       "    </tr>\n",
       "  </tbody>\n",
       "</table>\n",
       "<p>5 rows × 23 columns</p>\n",
       "</div>"
      ],
      "text/plain": [
       "              Order ID      Date                        Status Fulfilment  \\\n",
       "0  405-8078784-5731545  04-30-22                     Cancelled   Merchant   \n",
       "1  171-9198151-1101146  04-30-22  Shipped - Delivered to Buyer   Merchant   \n",
       "2  404-0687676-7273146  04-30-22                       Shipped     Amazon   \n",
       "3  403-9615377-8133951  04-30-22                     Cancelled   Merchant   \n",
       "4  407-1069790-7240320  04-30-22                       Shipped     Amazon   \n",
       "\n",
       "  Sales Channel  ship-service-level    Style              SKU       Category  \\\n",
       "0      Amazon.in           Standard   SET389   SET389-KR-NP-S            Set   \n",
       "1      Amazon.in           Standard  JNE3781  JNE3781-KR-XXXL          kurta   \n",
       "2      Amazon.in          Expedited  JNE3371    JNE3371-KR-XL          kurta   \n",
       "3      Amazon.in           Standard    J0341       J0341-DR-L  Western Dress   \n",
       "4      Amazon.in          Expedited  JNE3671  JNE3671-TU-XXXL            Top   \n",
       "\n",
       "  Size  ... currency  Amount    ship-city   ship-state  ship-postal-code  \\\n",
       "0    S  ...      INR  647.62       MUMBAI  MAHARASHTRA          400081.0   \n",
       "1  3XL  ...      INR  406.00    BENGALURU    KARNATAKA          560085.0   \n",
       "2   XL  ...      INR  329.00  NAVI MUMBAI  MAHARASHTRA          410210.0   \n",
       "3    L  ...      INR  753.33   PUDUCHERRY   PUDUCHERRY          605008.0   \n",
       "4  3XL  ...      INR  574.00      CHENNAI   TAMIL NADU          600073.0   \n",
       "\n",
       "  ship-country                                      promotion-ids    B2B  \\\n",
       "0           IN                                                NaN  False   \n",
       "1           IN  Amazon PLCC Free-Financing Universal Merchant ...  False   \n",
       "2           IN       IN Core Free Shipping 2015/04/08 23-48-5-108   True   \n",
       "3           IN                                                NaN  False   \n",
       "4           IN                                                NaN  False   \n",
       "\n",
       "  fulfilled-by Unnamed: 22  \n",
       "0    Easy Ship         NaN  \n",
       "1    Easy Ship         NaN  \n",
       "2          NaN         NaN  \n",
       "3    Easy Ship         NaN  \n",
       "4          NaN         NaN  \n",
       "\n",
       "[5 rows x 23 columns]"
      ]
     },
     "execution_count": 8,
     "metadata": {},
     "output_type": "execute_result"
    }
   ],
   "source": [
    "data.head()"
   ]
  },
  {
   "cell_type": "markdown",
   "id": "3667a318-0c2b-4d86-977c-d9eee9be248e",
   "metadata": {},
   "source": [
    "## changing data type --- date(datetime), Ship postal code(int)"
   ]
  },
  {
   "cell_type": "code",
   "execution_count": 10,
   "id": "d54e3b85-2441-455b-adce-df61cfa77686",
   "metadata": {},
   "outputs": [],
   "source": [
    "from datetime import datetime\n",
    "\n",
    "# Define the date format\n",
    "date_format = \"%m-%d-%y\"  # MM-DD-YY format\n",
    "\n",
    "# Define a function to parse the date string\n",
    "def parse_date(date_str):\n",
    "    try:\n",
    "        return datetime.strptime(date_str, date_format)\n",
    "    except ValueError:\n",
    "        return None  # Handle cases where the date format might be incorrect\n",
    "\n",
    "# Apply the parsing function to the 'Date' column\n",
    "data['Date'] = data['Date'].apply(parse_date)"
   ]
  },
  {
   "cell_type": "code",
   "execution_count": 11,
   "id": "4818ac8d-25df-4fb2-a2dc-0b4c24d9b98d",
   "metadata": {},
   "outputs": [
    {
     "name": "stdout",
     "output_type": "stream",
     "text": [
      "<class 'pandas.core.frame.DataFrame'>\n",
      "RangeIndex: 128975 entries, 0 to 128974\n",
      "Data columns (total 23 columns):\n",
      " #   Column              Non-Null Count   Dtype         \n",
      "---  ------              --------------   -----         \n",
      " 0   Order ID            128975 non-null  object        \n",
      " 1   Date                128975 non-null  datetime64[ns]\n",
      " 2   Status              128975 non-null  object        \n",
      " 3   Fulfilment          128975 non-null  object        \n",
      " 4   Sales Channel       128975 non-null  object        \n",
      " 5   ship-service-level  128975 non-null  object        \n",
      " 6   Style               128975 non-null  object        \n",
      " 7   SKU                 128975 non-null  object        \n",
      " 8   Category            128975 non-null  object        \n",
      " 9   Size                128975 non-null  object        \n",
      " 10  ASIN                128975 non-null  object        \n",
      " 11  Courier Status      122103 non-null  object        \n",
      " 12  Qty                 128975 non-null  int64         \n",
      " 13  currency            121180 non-null  object        \n",
      " 14  Amount              121180 non-null  float64       \n",
      " 15  ship-city           128942 non-null  object        \n",
      " 16  ship-state          128942 non-null  object        \n",
      " 17  ship-postal-code    128942 non-null  float64       \n",
      " 18  ship-country        128942 non-null  object        \n",
      " 19  promotion-ids       79822 non-null   object        \n",
      " 20  B2B                 128975 non-null  bool          \n",
      " 21  fulfilled-by        39277 non-null   object        \n",
      " 22  Unnamed: 22         79925 non-null   object        \n",
      "dtypes: bool(1), datetime64[ns](1), float64(2), int64(1), object(18)\n",
      "memory usage: 21.8+ MB\n"
     ]
    }
   ],
   "source": [
    "data.info()"
   ]
  },
  {
   "cell_type": "markdown",
   "id": "278e0e39-df78-4fbf-a217-0d11bcd45f5b",
   "metadata": {},
   "source": [
    "### Ship postal code"
   ]
  },
  {
   "cell_type": "code",
   "execution_count": 13,
   "id": "90c4d561-c2a6-45e5-bacd-b390d9afb80f",
   "metadata": {},
   "outputs": [
    {
     "data": {
      "text/plain": [
       "Order ID                  0\n",
       "Date                      0\n",
       "Status                    0\n",
       "Fulfilment                0\n",
       "Sales Channel             0\n",
       "ship-service-level        0\n",
       "Style                     0\n",
       "SKU                       0\n",
       "Category                  0\n",
       "Size                      0\n",
       "ASIN                      0\n",
       "Courier Status         6872\n",
       "Qty                       0\n",
       "currency               7795\n",
       "Amount                 7795\n",
       "ship-city                33\n",
       "ship-state               33\n",
       "ship-postal-code         33\n",
       "ship-country             33\n",
       "promotion-ids         49153\n",
       "B2B                       0\n",
       "fulfilled-by          89698\n",
       "Unnamed: 22           49050\n",
       "dtype: int64"
      ]
     },
     "execution_count": 13,
     "metadata": {},
     "output_type": "execute_result"
    }
   ],
   "source": [
    "data.isnull().sum()"
   ]
  },
  {
   "cell_type": "code",
   "execution_count": 14,
   "id": "440bbe59-2dd0-47f8-9cfd-a25869fd2ad0",
   "metadata": {},
   "outputs": [
    {
     "data": {
      "text/plain": [
       "count    128942.000000\n",
       "mean     463966.236509\n",
       "std      191476.764941\n",
       "min      110001.000000\n",
       "25%      382421.000000\n",
       "50%      500033.000000\n",
       "75%      600024.000000\n",
       "max      989898.000000\n",
       "Name: ship-postal-code, dtype: float64"
      ]
     },
     "execution_count": 14,
     "metadata": {},
     "output_type": "execute_result"
    }
   ],
   "source": [
    "data[\"ship-postal-code\"].describe()"
   ]
  },
  {
   "cell_type": "code",
   "execution_count": 15,
   "id": "4bfbacf0-2ae0-43a8-8d52-5c375ed52969",
   "metadata": {},
   "outputs": [],
   "source": [
    "data[\"ship-postal-code\"] = data[\"ship-postal-code\"].replace(np.nan ,463966.236509)"
   ]
  },
  {
   "cell_type": "code",
   "execution_count": 16,
   "id": "49e2500c-a488-48d1-9359-72dcbc932a43",
   "metadata": {},
   "outputs": [],
   "source": [
    "data[\"ship-postal-code\"] = data[\"ship-postal-code\"].astype(int)"
   ]
  },
  {
   "cell_type": "code",
   "execution_count": 17,
   "id": "ee7bd6cb-f58c-45f2-8953-45aba0cc02c8",
   "metadata": {},
   "outputs": [
    {
     "data": {
      "text/plain": [
       "Order ID                  0\n",
       "Date                      0\n",
       "Status                    0\n",
       "Fulfilment                0\n",
       "Sales Channel             0\n",
       "ship-service-level        0\n",
       "Style                     0\n",
       "SKU                       0\n",
       "Category                  0\n",
       "Size                      0\n",
       "ASIN                      0\n",
       "Courier Status         6872\n",
       "Qty                       0\n",
       "currency               7795\n",
       "Amount                 7795\n",
       "ship-city                33\n",
       "ship-state               33\n",
       "ship-postal-code          0\n",
       "ship-country             33\n",
       "promotion-ids         49153\n",
       "B2B                       0\n",
       "fulfilled-by          89698\n",
       "Unnamed: 22           49050\n",
       "dtype: int64"
      ]
     },
     "execution_count": 17,
     "metadata": {},
     "output_type": "execute_result"
    }
   ],
   "source": [
    "data.isnull().sum()"
   ]
  },
  {
   "cell_type": "code",
   "execution_count": 19,
   "id": "8788f08b-b6c7-48b1-adda-7e233a528811",
   "metadata": {},
   "outputs": [
    {
     "name": "stdout",
     "output_type": "stream",
     "text": [
      "                   Order ID       Date                        Status  \\\n",
      "0       405-8078784-5731545 2022-04-30                     Cancelled   \n",
      "1       171-9198151-1101146 2022-04-30  Shipped - Delivered to Buyer   \n",
      "2       404-0687676-7273146 2022-04-30                       Shipped   \n",
      "3       403-9615377-8133951 2022-04-30                     Cancelled   \n",
      "4       407-1069790-7240320 2022-04-30                       Shipped   \n",
      "...                     ...        ...                           ...   \n",
      "128970  406-6001380-7673107 2022-05-31                       Shipped   \n",
      "128971  402-9551604-7544318 2022-05-31                       Shipped   \n",
      "128972  407-9547469-3152358 2022-05-31                       Shipped   \n",
      "128973  402-6184140-0545956 2022-05-31                       Shipped   \n",
      "128974  408-7436540-8728312 2022-05-31                       Shipped   \n",
      "\n",
      "       Fulfilment Sales Channel  ship-service-level    Style              SKU  \\\n",
      "0        Merchant      Amazon.in           Standard   SET389   SET389-KR-NP-S   \n",
      "1        Merchant      Amazon.in           Standard  JNE3781  JNE3781-KR-XXXL   \n",
      "2          Amazon      Amazon.in          Expedited  JNE3371    JNE3371-KR-XL   \n",
      "3        Merchant      Amazon.in           Standard    J0341       J0341-DR-L   \n",
      "4          Amazon      Amazon.in          Expedited  JNE3671  JNE3671-TU-XXXL   \n",
      "...           ...            ...                ...      ...              ...   \n",
      "128970     Amazon      Amazon.in          Expedited  JNE3697    JNE3697-KR-XL   \n",
      "128971     Amazon      Amazon.in          Expedited   SET401   SET401-KR-NP-M   \n",
      "128972     Amazon      Amazon.in          Expedited    J0157     J0157-DR-XXL   \n",
      "128973     Amazon      Amazon.in          Expedited    J0012     J0012-SKD-XS   \n",
      "128974     Amazon      Amazon.in          Expedited    J0003      J0003-SET-S   \n",
      "\n",
      "             Category Size  ... currency   Amount    ship-city    ship-state  \\\n",
      "0                 Set    S  ...      INR   647.62       MUMBAI   MAHARASHTRA   \n",
      "1               kurta  3XL  ...      INR   406.00    BENGALURU     KARNATAKA   \n",
      "2               kurta   XL  ...      INR   329.00  NAVI MUMBAI   MAHARASHTRA   \n",
      "3       Western Dress    L  ...      INR   753.33   PUDUCHERRY    PUDUCHERRY   \n",
      "4                 Top  3XL  ...      INR   574.00      CHENNAI    TAMIL NADU   \n",
      "...               ...  ...  ...      ...      ...          ...           ...   \n",
      "128970          kurta   XL  ...      INR   517.00    HYDERABAD     TELANGANA   \n",
      "128971            Set    M  ...      INR   999.00     GURUGRAM       HARYANA   \n",
      "128972  Western Dress  XXL  ...      INR   690.00    HYDERABAD     TELANGANA   \n",
      "128973            Set   XS  ...      INR  1199.00        Halol       Gujarat   \n",
      "128974            Set    S  ...      INR   696.00       Raipur  CHHATTISGARH   \n",
      "\n",
      "        ship-postal-code ship-country  \\\n",
      "0                 400081           IN   \n",
      "1                 560085           IN   \n",
      "2                 410210           IN   \n",
      "3                 605008           IN   \n",
      "4                 600073           IN   \n",
      "...                  ...          ...   \n",
      "128970            500013           IN   \n",
      "128971            122004           IN   \n",
      "128972            500049           IN   \n",
      "128973            389350           IN   \n",
      "128974            492014           IN   \n",
      "\n",
      "                                            promotion-ids    B2B fulfilled-by  \\\n",
      "0                                                     NaN  False    Easy Ship   \n",
      "1       Amazon PLCC Free-Financing Universal Merchant ...  False    Easy Ship   \n",
      "2            IN Core Free Shipping 2015/04/08 23-48-5-108   True          NaN   \n",
      "3                                                     NaN  False    Easy Ship   \n",
      "4                                                     NaN  False          NaN   \n",
      "...                                                   ...    ...          ...   \n",
      "128970                                                NaN  False          NaN   \n",
      "128971       IN Core Free Shipping 2015/04/08 23-48-5-108  False          NaN   \n",
      "128972                                                NaN  False          NaN   \n",
      "128973       IN Core Free Shipping 2015/04/08 23-48-5-108  False          NaN   \n",
      "128974       IN Core Free Shipping 2015/04/08 23-48-5-108  False          NaN   \n",
      "\n",
      "       Unnamed: 22  \n",
      "0              NaN  \n",
      "1              NaN  \n",
      "2              NaN  \n",
      "3              NaN  \n",
      "4              NaN  \n",
      "...            ...  \n",
      "128970       False  \n",
      "128971       False  \n",
      "128972       False  \n",
      "128973       False  \n",
      "128974       False  \n",
      "\n",
      "[128975 rows x 23 columns]\n"
     ]
    }
   ],
   "source": [
    "print(data)"
   ]
  },
  {
   "cell_type": "markdown",
   "id": "04ebda07-098a-47f1-ace3-acb66f761599",
   "metadata": {},
   "source": [
    "## filling missing values----- promotion-ids"
   ]
  },
  {
   "cell_type": "code",
   "execution_count": 21,
   "id": "e0443678-863f-4107-97a2-414252ff14e6",
   "metadata": {},
   "outputs": [
    {
     "data": {
      "text/plain": [
       "49153"
      ]
     },
     "execution_count": 21,
     "metadata": {},
     "output_type": "execute_result"
    }
   ],
   "source": [
    "data[\"promotion-ids\"].isnull().sum()"
   ]
  },
  {
   "cell_type": "code",
   "execution_count": 22,
   "id": "904c7d74-f1a9-45da-a7b8-7f1eefb508c8",
   "metadata": {},
   "outputs": [
    {
     "data": {
      "text/plain": [
       "count                                            79822\n",
       "unique                                            5787\n",
       "top       IN Core Free Shipping 2015/04/08 23-48-5-108\n",
       "freq                                             46100\n",
       "Name: promotion-ids, dtype: object"
      ]
     },
     "execution_count": 22,
     "metadata": {},
     "output_type": "execute_result"
    }
   ],
   "source": [
    "data[\"promotion-ids\"].describe()"
   ]
  },
  {
   "cell_type": "code",
   "execution_count": 23,
   "id": "7bcc2822-ece1-45ab-906c-fb65fedc08c8",
   "metadata": {},
   "outputs": [],
   "source": [
    "data[\"promotion-ids\"] = data[\"promotion-ids\"].replace(np.nan, \"IN Core Free Shipping 2015/04/08 23-48-5-108\")"
   ]
  },
  {
   "cell_type": "code",
   "execution_count": 24,
   "id": "9fe635f1-c445-44f5-a624-253df8877b76",
   "metadata": {},
   "outputs": [
    {
     "data": {
      "text/plain": [
       "Order ID                  0\n",
       "Date                      0\n",
       "Status                    0\n",
       "Fulfilment                0\n",
       "Sales Channel             0\n",
       "ship-service-level        0\n",
       "Style                     0\n",
       "SKU                       0\n",
       "Category                  0\n",
       "Size                      0\n",
       "ASIN                      0\n",
       "Courier Status         6872\n",
       "Qty                       0\n",
       "currency               7795\n",
       "Amount                 7795\n",
       "ship-city                33\n",
       "ship-state               33\n",
       "ship-postal-code          0\n",
       "ship-country             33\n",
       "promotion-ids             0\n",
       "B2B                       0\n",
       "fulfilled-by          89698\n",
       "Unnamed: 22           49050\n",
       "dtype: int64"
      ]
     },
     "execution_count": 24,
     "metadata": {},
     "output_type": "execute_result"
    }
   ],
   "source": [
    "data.isnull().sum()"
   ]
  },
  {
   "cell_type": "markdown",
   "id": "0bf3c323-3cc2-4880-b831-b3d99a7177c1",
   "metadata": {},
   "source": [
    "## Filling Missing values----fulfilled-by  "
   ]
  },
  {
   "cell_type": "code",
   "execution_count": 31,
   "id": "f3a68375-17f1-46ea-ae11-08df52029ca2",
   "metadata": {},
   "outputs": [
    {
     "data": {
      "text/plain": [
       "39277"
      ]
     },
     "execution_count": 31,
     "metadata": {},
     "output_type": "execute_result"
    }
   ],
   "source": [
    "(data[\"fulfilled-by\"] == \"Easy Ship\").sum()"
   ]
  },
  {
   "cell_type": "code",
   "execution_count": 33,
   "id": "ed5c1b36-5841-4919-bfb5-a584df084d22",
   "metadata": {},
   "outputs": [
    {
     "data": {
      "text/plain": [
       "array(['Easy Ship', nan], dtype=object)"
      ]
     },
     "execution_count": 33,
     "metadata": {},
     "output_type": "execute_result"
    }
   ],
   "source": [
    "data[\"fulfilled-by\"].unique()"
   ]
  },
  {
   "cell_type": "code",
   "execution_count": 34,
   "id": "fd5c89f9-ca19-4d76-ad62-011948e38976",
   "metadata": {},
   "outputs": [
    {
     "data": {
      "text/plain": [
       "Order ID                  0\n",
       "Date                      0\n",
       "Status                    0\n",
       "Fulfilment                0\n",
       "Sales Channel             0\n",
       "ship-service-level        0\n",
       "Style                     0\n",
       "SKU                       0\n",
       "Category                  0\n",
       "Size                      0\n",
       "ASIN                      0\n",
       "Courier Status         6872\n",
       "Qty                       0\n",
       "currency               7795\n",
       "Amount                 7795\n",
       "ship-city                33\n",
       "ship-state               33\n",
       "ship-postal-code          0\n",
       "ship-country             33\n",
       "promotion-ids             0\n",
       "B2B                       0\n",
       "fulfilled-by          89698\n",
       "Unnamed: 22           49050\n",
       "dtype: int64"
      ]
     },
     "execution_count": 34,
     "metadata": {},
     "output_type": "execute_result"
    }
   ],
   "source": [
    "data.isnull().sum()"
   ]
  },
  {
   "cell_type": "markdown",
   "id": "147c11c3-7d77-4484-b05c-b5f365978323",
   "metadata": {},
   "source": [
    "#### Dropping column -----fulfilled-by   "
   ]
  },
  {
   "cell_type": "code",
   "execution_count": 36,
   "id": "5eeb5c12-4e96-4cb0-9f32-e34da430d6cd",
   "metadata": {},
   "outputs": [],
   "source": [
    "data.drop(columns=[\"fulfilled-by\"], inplace = True)"
   ]
  },
  {
   "cell_type": "markdown",
   "id": "ac10bbe9-14b9-4954-a283-84aef4d8bf1b",
   "metadata": {},
   "source": [
    "## Removing column-----Unnamed: 22  "
   ]
  },
  {
   "cell_type": "code",
   "execution_count": 38,
   "id": "9891bb3a-a6db-46a1-8120-d5c2495906d7",
   "metadata": {},
   "outputs": [
    {
     "data": {
      "text/plain": [
       "array([nan, False], dtype=object)"
      ]
     },
     "execution_count": 38,
     "metadata": {},
     "output_type": "execute_result"
    }
   ],
   "source": [
    "data[\"Unnamed: 22\"].unique()"
   ]
  },
  {
   "cell_type": "code",
   "execution_count": 39,
   "id": "992b88e2-89d2-4cc2-bdcf-2db5804f11cf",
   "metadata": {},
   "outputs": [],
   "source": [
    "data.drop(columns=[\"Unnamed: 22\"], inplace=True)"
   ]
  },
  {
   "cell_type": "markdown",
   "id": "5d442b74-aa0e-45ac-ad26-fcc416e3c3e8",
   "metadata": {},
   "source": [
    "## Filling missing value----- Courier Status "
   ]
  },
  {
   "cell_type": "code",
   "execution_count": 42,
   "id": "b8a0570a-0782-4d1e-8dcc-699c1d3b19f5",
   "metadata": {},
   "outputs": [
    {
     "data": {
      "text/plain": [
       "array([nan, 'Shipped', 'Cancelled', 'Unshipped'], dtype=object)"
      ]
     },
     "execution_count": 42,
     "metadata": {},
     "output_type": "execute_result"
    }
   ],
   "source": [
    "data[\"Courier Status\"].unique()"
   ]
  },
  {
   "cell_type": "code",
   "execution_count": 44,
   "id": "2a3e256d-554e-44be-a627-879aceffa7f4",
   "metadata": {},
   "outputs": [
    {
     "data": {
      "text/plain": [
       "6872"
      ]
     },
     "execution_count": 44,
     "metadata": {},
     "output_type": "execute_result"
    }
   ],
   "source": [
    "data[\"Courier Status\"].isnull().sum()"
   ]
  },
  {
   "cell_type": "code",
   "execution_count": 49,
   "id": "fea23d49-9931-4b8a-adc4-3ba35ea8a00b",
   "metadata": {},
   "outputs": [
    {
     "data": {
      "text/plain": [
       "count      122103\n",
       "unique          3\n",
       "top       Shipped\n",
       "freq       109487\n",
       "Name: Courier Status, dtype: object"
      ]
     },
     "execution_count": 49,
     "metadata": {},
     "output_type": "execute_result"
    }
   ],
   "source": [
    "data[\"Courier Status\"].describe()"
   ]
  },
  {
   "cell_type": "code",
   "execution_count": 52,
   "id": "8ad56920-6dfc-43fe-b24e-1c9467bca784",
   "metadata": {},
   "outputs": [
    {
     "data": {
      "text/plain": [
       "109487"
      ]
     },
     "execution_count": 52,
     "metadata": {},
     "output_type": "execute_result"
    }
   ],
   "source": [
    "(data[\"Courier Status\"] == \"Shipped\").sum()"
   ]
  },
  {
   "cell_type": "code",
   "execution_count": 56,
   "id": "b246469d-6ae2-4fba-93dc-abf0b0c648fc",
   "metadata": {},
   "outputs": [
    {
     "data": {
      "text/plain": [
       "5935"
      ]
     },
     "execution_count": 56,
     "metadata": {},
     "output_type": "execute_result"
    }
   ],
   "source": [
    "(data[\"Courier Status\"] == \"Cancelled\").sum()"
   ]
  },
  {
   "cell_type": "code",
   "execution_count": 58,
   "id": "9ba4cf44-269d-4b8f-b650-6cceab468a1e",
   "metadata": {},
   "outputs": [
    {
     "data": {
      "text/plain": [
       "6681"
      ]
     },
     "execution_count": 58,
     "metadata": {},
     "output_type": "execute_result"
    }
   ],
   "source": [
    "(data[\"Courier Status\"] == \"Unshipped\").sum()"
   ]
  },
  {
   "cell_type": "code",
   "execution_count": 61,
   "id": "86275ece-302d-4375-8cb6-ec3b1ab457cf",
   "metadata": {},
   "outputs": [],
   "source": [
    "data[\"Courier Status\"] = data[\"Courier Status\"].replace(np.nan, \"Shipped\")"
   ]
  },
  {
   "cell_type": "markdown",
   "id": "a0776eef-a6ca-47f6-8872-5274622e0c01",
   "metadata": {},
   "source": [
    "## Filling missing value-----currency  "
   ]
  },
  {
   "cell_type": "code",
   "execution_count": 67,
   "id": "02aa3c50-6dd3-42b9-976d-757249ba7ea7",
   "metadata": {},
   "outputs": [
    {
     "name": "stdout",
     "output_type": "stream",
     "text": [
      "<class 'pandas.core.series.Series'>\n",
      "RangeIndex: 128975 entries, 0 to 128974\n",
      "Series name: currency\n",
      "Non-Null Count   Dtype \n",
      "--------------   ----- \n",
      "121180 non-null  object\n",
      "dtypes: object(1)\n",
      "memory usage: 1007.7+ KB\n"
     ]
    }
   ],
   "source": [
    "data[\"currency\"].info()"
   ]
  },
  {
   "cell_type": "code",
   "execution_count": 70,
   "id": "a9739464-dfd5-4e62-86a7-2667e9155bad",
   "metadata": {},
   "outputs": [
    {
     "data": {
      "text/plain": [
       "7795"
      ]
     },
     "execution_count": 70,
     "metadata": {},
     "output_type": "execute_result"
    }
   ],
   "source": [
    "data[\"currency\"].isnull().sum()"
   ]
  },
  {
   "cell_type": "code",
   "execution_count": 73,
   "id": "d053c461-af5f-43e8-a517-49068f952978",
   "metadata": {},
   "outputs": [
    {
     "data": {
      "text/plain": [
       "array(['INR', nan], dtype=object)"
      ]
     },
     "execution_count": 73,
     "metadata": {},
     "output_type": "execute_result"
    }
   ],
   "source": [
    "data[\"currency\"].unique()"
   ]
  },
  {
   "cell_type": "code",
   "execution_count": 80,
   "id": "9f60eafb-4530-4f07-8bd0-fd0a0a654f58",
   "metadata": {},
   "outputs": [],
   "source": [
    "data[\"currency\"] = data[\"currency\"].replace(np.nan, \"INR\")"
   ]
  },
  {
   "cell_type": "markdown",
   "id": "6165a380-7341-42a0-8cb4-52669cba6f75",
   "metadata": {},
   "source": [
    "## Filling missing value----Amount          "
   ]
  },
  {
   "cell_type": "code",
   "execution_count": 83,
   "id": "b21dde72-99c7-4976-985f-34205306fe65",
   "metadata": {},
   "outputs": [
    {
     "data": {
      "text/plain": [
       "0          647.62\n",
       "1          406.00\n",
       "2          329.00\n",
       "3          753.33\n",
       "4          574.00\n",
       "           ...   \n",
       "128970     517.00\n",
       "128971     999.00\n",
       "128972     690.00\n",
       "128973    1199.00\n",
       "128974     696.00\n",
       "Name: Amount, Length: 128975, dtype: float64"
      ]
     },
     "execution_count": 83,
     "metadata": {},
     "output_type": "execute_result"
    }
   ],
   "source": [
    "data[\"Amount\"]"
   ]
  },
  {
   "cell_type": "code",
   "execution_count": 85,
   "id": "8c52ef5a-5afd-4890-8563-8488c7e1cb8a",
   "metadata": {},
   "outputs": [
    {
     "data": {
      "text/plain": [
       "7795"
      ]
     },
     "execution_count": 85,
     "metadata": {},
     "output_type": "execute_result"
    }
   ],
   "source": [
    "data[\"Amount\"].isnull().sum()"
   ]
  },
  {
   "cell_type": "code",
   "execution_count": 87,
   "id": "5a8825c5-5a4e-4cdb-959f-93eff90e8809",
   "metadata": {},
   "outputs": [
    {
     "data": {
      "text/plain": [
       "count    121180.000000\n",
       "mean        648.561465\n",
       "std         281.211687\n",
       "min           0.000000\n",
       "25%         449.000000\n",
       "50%         605.000000\n",
       "75%         788.000000\n",
       "max        5584.000000\n",
       "Name: Amount, dtype: float64"
      ]
     },
     "execution_count": 87,
     "metadata": {},
     "output_type": "execute_result"
    }
   ],
   "source": [
    "data[\"Amount\"].describe()"
   ]
  },
  {
   "cell_type": "code",
   "execution_count": 89,
   "id": "432e7f8b-9ac5-4ea3-a5f8-6395c84caa68",
   "metadata": {},
   "outputs": [],
   "source": [
    "data[\"Amount\"] = data[\"Amount\"].replace(np.nan, 648.561465)"
   ]
  },
  {
   "cell_type": "code",
   "execution_count": 91,
   "id": "6d2e3b78-2ca4-4bda-a03f-c084ade68a18",
   "metadata": {},
   "outputs": [
    {
     "data": {
      "text/plain": [
       "Order ID               0\n",
       "Date                   0\n",
       "Status                 0\n",
       "Fulfilment             0\n",
       "Sales Channel          0\n",
       "ship-service-level     0\n",
       "Style                  0\n",
       "SKU                    0\n",
       "Category               0\n",
       "Size                   0\n",
       "ASIN                   0\n",
       "Courier Status         0\n",
       "Qty                    0\n",
       "currency               0\n",
       "Amount                 0\n",
       "ship-city             33\n",
       "ship-state            33\n",
       "ship-postal-code       0\n",
       "ship-country          33\n",
       "promotion-ids          0\n",
       "B2B                    0\n",
       "dtype: int64"
      ]
     },
     "execution_count": 91,
     "metadata": {},
     "output_type": "execute_result"
    }
   ],
   "source": [
    "data.isnull().sum()"
   ]
  },
  {
   "cell_type": "markdown",
   "id": "b537e004-87b2-46c3-a7e7-4d200cbb9a49",
   "metadata": {},
   "source": [
    "## Filling missing value----ship-city"
   ]
  },
  {
   "cell_type": "code",
   "execution_count": 94,
   "id": "639d7015-f2b4-4df0-ba41-c382b5108b02",
   "metadata": {},
   "outputs": [
    {
     "data": {
      "text/plain": [
       "0              MUMBAI\n",
       "1           BENGALURU\n",
       "2         NAVI MUMBAI\n",
       "3          PUDUCHERRY\n",
       "4             CHENNAI\n",
       "             ...     \n",
       "128970      HYDERABAD\n",
       "128971       GURUGRAM\n",
       "128972      HYDERABAD\n",
       "128973          Halol\n",
       "128974         Raipur\n",
       "Name: ship-city, Length: 128975, dtype: object"
      ]
     },
     "execution_count": 94,
     "metadata": {},
     "output_type": "execute_result"
    }
   ],
   "source": [
    "data[\"ship-city\"]"
   ]
  },
  {
   "cell_type": "code",
   "execution_count": 96,
   "id": "ff6d00de-298d-4865-9b43-2addd097c01a",
   "metadata": {},
   "outputs": [
    {
     "data": {
      "text/plain": [
       "array(['MUMBAI', 'BENGALURU', 'NAVI MUMBAI', ...,\n",
       "       'GULABPURA, Distt BHILWARA', 'Prayagraj (ALLAHABAD)', 'Halol'],\n",
       "      dtype=object)"
      ]
     },
     "execution_count": 96,
     "metadata": {},
     "output_type": "execute_result"
    }
   ],
   "source": [
    "data[\"ship-city\"].unique()"
   ]
  },
  {
   "cell_type": "code",
   "execution_count": 98,
   "id": "282f6c85-9d25-479b-855b-4f14d53c130a",
   "metadata": {},
   "outputs": [
    {
     "data": {
      "text/plain": [
       "count        128942\n",
       "unique         8955\n",
       "top       BENGALURU\n",
       "freq          11217\n",
       "Name: ship-city, dtype: object"
      ]
     },
     "execution_count": 98,
     "metadata": {},
     "output_type": "execute_result"
    }
   ],
   "source": [
    "data[\"ship-city\"].describe()"
   ]
  },
  {
   "cell_type": "code",
   "execution_count": 100,
   "id": "e7cda5ee-77eb-4513-89e5-0949f1eb176c",
   "metadata": {},
   "outputs": [
    {
     "data": {
      "text/plain": [
       "0    BENGALURU\n",
       "Name: ship-city, dtype: object"
      ]
     },
     "execution_count": 100,
     "metadata": {},
     "output_type": "execute_result"
    }
   ],
   "source": [
    "data[\"ship-city\"].mode()"
   ]
  },
  {
   "cell_type": "code",
   "execution_count": 102,
   "id": "72bb0d0c-d29b-4150-8445-0868de693849",
   "metadata": {},
   "outputs": [],
   "source": [
    "data[\"ship-city\"] = data[\"ship-city\"].replace(np.nan, \"BENGALURU\")"
   ]
  },
  {
   "cell_type": "code",
   "execution_count": 104,
   "id": "2366d157-80c2-4e9f-9147-aa90c2682850",
   "metadata": {},
   "outputs": [
    {
     "data": {
      "text/plain": [
       "Order ID               0\n",
       "Date                   0\n",
       "Status                 0\n",
       "Fulfilment             0\n",
       "Sales Channel          0\n",
       "ship-service-level     0\n",
       "Style                  0\n",
       "SKU                    0\n",
       "Category               0\n",
       "Size                   0\n",
       "ASIN                   0\n",
       "Courier Status         0\n",
       "Qty                    0\n",
       "currency               0\n",
       "Amount                 0\n",
       "ship-city              0\n",
       "ship-state            33\n",
       "ship-postal-code       0\n",
       "ship-country          33\n",
       "promotion-ids          0\n",
       "B2B                    0\n",
       "dtype: int64"
      ]
     },
     "execution_count": 104,
     "metadata": {},
     "output_type": "execute_result"
    }
   ],
   "source": [
    "data.isnull().sum()"
   ]
  },
  {
   "cell_type": "code",
   "execution_count": 105,
   "id": "f8e34163-0079-4fc1-9bbc-c667c11e8d72",
   "metadata": {},
   "outputs": [
    {
     "data": {
      "text/plain": [
       "0          MAHARASHTRA\n",
       "1            KARNATAKA\n",
       "2          MAHARASHTRA\n",
       "3           PUDUCHERRY\n",
       "4           TAMIL NADU\n",
       "              ...     \n",
       "128970       TELANGANA\n",
       "128971         HARYANA\n",
       "128972       TELANGANA\n",
       "128973         Gujarat\n",
       "128974    CHHATTISGARH\n",
       "Name: ship-state, Length: 128975, dtype: object"
      ]
     },
     "execution_count": 105,
     "metadata": {},
     "output_type": "execute_result"
    }
   ],
   "source": [
    "data[\"ship-state\"]"
   ]
  },
  {
   "cell_type": "code",
   "execution_count": 108,
   "id": "7891c198-cb52-4fcf-a575-a235d27eea84",
   "metadata": {},
   "outputs": [
    {
     "data": {
      "text/plain": [
       "array(['MAHARASHTRA', 'KARNATAKA', 'PUDUCHERRY', 'TAMIL NADU',\n",
       "       'UTTAR PRADESH', 'CHANDIGARH', 'TELANGANA', 'ANDHRA PRADESH',\n",
       "       'RAJASTHAN', 'DELHI', 'HARYANA', 'ASSAM', 'JHARKHAND',\n",
       "       'CHHATTISGARH', 'ODISHA', 'KERALA', 'MADHYA PRADESH',\n",
       "       'WEST BENGAL', 'NAGALAND', 'Gujarat', 'UTTARAKHAND', 'BIHAR',\n",
       "       'JAMMU & KASHMIR', 'PUNJAB', 'HIMACHAL PRADESH',\n",
       "       'ARUNACHAL PRADESH', 'MANIPUR', 'Goa', 'MEGHALAYA', 'GOA',\n",
       "       'TRIPURA', 'LADAKH', 'DADRA AND NAGAR', 'SIKKIM', 'Delhi', nan,\n",
       "       'ANDAMAN & NICOBAR ', 'Punjab', 'Rajshthan', 'Manipur',\n",
       "       'rajasthan', 'Odisha', 'NL', 'Bihar', 'MIZORAM', 'punjab',\n",
       "       'New Delhi', 'Rajasthan', 'Punjab/Mohali/Zirakpur', 'Puducherry',\n",
       "       'delhi', 'RJ', 'Chandigarh', 'orissa', 'LAKSHADWEEP', 'goa', 'PB',\n",
       "       'APO', 'Arunachal Pradesh', 'AR', 'Pondicherry', 'Sikkim',\n",
       "       'Arunachal pradesh', 'Nagaland', 'bihar', 'Mizoram', 'rajsthan',\n",
       "       'Orissa', 'Rajsthan', 'Meghalaya'], dtype=object)"
      ]
     },
     "execution_count": 108,
     "metadata": {},
     "output_type": "execute_result"
    }
   ],
   "source": [
    "data[\"ship-state\"].unique()"
   ]
  },
  {
   "cell_type": "code",
   "execution_count": 110,
   "id": "d4189b44-ea30-406b-84cb-7c74bc26043f",
   "metadata": {},
   "outputs": [
    {
     "data": {
      "text/plain": [
       "count          128942\n",
       "unique             69\n",
       "top       MAHARASHTRA\n",
       "freq            22260\n",
       "Name: ship-state, dtype: object"
      ]
     },
     "execution_count": 110,
     "metadata": {},
     "output_type": "execute_result"
    }
   ],
   "source": [
    "data[\"ship-state\"].describe()"
   ]
  },
  {
   "cell_type": "code",
   "execution_count": 112,
   "id": "097af4f9-5478-4e03-aa69-774168935bdb",
   "metadata": {},
   "outputs": [
    {
     "data": {
      "text/plain": [
       "0    MAHARASHTRA\n",
       "Name: ship-state, dtype: object"
      ]
     },
     "execution_count": 112,
     "metadata": {},
     "output_type": "execute_result"
    }
   ],
   "source": [
    "data[\"ship-state\"].mode()"
   ]
  },
  {
   "cell_type": "code",
   "execution_count": 114,
   "id": "d39f55ce-f363-45c7-af01-704d8f3fc9dd",
   "metadata": {},
   "outputs": [],
   "source": [
    "data[\"ship-state\"] = data[\"ship-state\"].replace(np.nan,\" MAHARASHTRA\")"
   ]
  },
  {
   "cell_type": "markdown",
   "id": "2fd052d1-5bbb-443c-9a30-bbfec9f3faab",
   "metadata": {},
   "source": [
    "## Filling missing value-----ship-country "
   ]
  },
  {
   "cell_type": "code",
   "execution_count": 117,
   "id": "dd1e9899-ef7a-4619-8e9b-645852d3126c",
   "metadata": {},
   "outputs": [
    {
     "data": {
      "text/plain": [
       "array(['IN', nan], dtype=object)"
      ]
     },
     "execution_count": 117,
     "metadata": {},
     "output_type": "execute_result"
    }
   ],
   "source": [
    "data[\"ship-country\"].unique()"
   ]
  },
  {
   "cell_type": "code",
   "execution_count": 119,
   "id": "241ed976-4250-420f-ab46-e8fd0bc5be2f",
   "metadata": {},
   "outputs": [
    {
     "data": {
      "text/plain": [
       "0    IN\n",
       "Name: ship-country, dtype: object"
      ]
     },
     "execution_count": 119,
     "metadata": {},
     "output_type": "execute_result"
    }
   ],
   "source": [
    "data[\"ship-country\"].mode()"
   ]
  },
  {
   "cell_type": "code",
   "execution_count": 121,
   "id": "025ef53e-3338-4647-8ae3-1853650c6d2a",
   "metadata": {},
   "outputs": [],
   "source": [
    "data[\"ship-country\"] = data[\"ship-country\"].replace(np.nan, \"IN\")"
   ]
  },
  {
   "cell_type": "code",
   "execution_count": 123,
   "id": "5a9d7db8-46a8-4d8c-a034-da6c0c3e4791",
   "metadata": {},
   "outputs": [
    {
     "data": {
      "text/plain": [
       "Order ID              0\n",
       "Date                  0\n",
       "Status                0\n",
       "Fulfilment            0\n",
       "Sales Channel         0\n",
       "ship-service-level    0\n",
       "Style                 0\n",
       "SKU                   0\n",
       "Category              0\n",
       "Size                  0\n",
       "ASIN                  0\n",
       "Courier Status        0\n",
       "Qty                   0\n",
       "currency              0\n",
       "Amount                0\n",
       "ship-city             0\n",
       "ship-state            0\n",
       "ship-postal-code      0\n",
       "ship-country          0\n",
       "promotion-ids         0\n",
       "B2B                   0\n",
       "dtype: int64"
      ]
     },
     "execution_count": 123,
     "metadata": {},
     "output_type": "execute_result"
    }
   ],
   "source": [
    "data.isnull().sum()"
   ]
  },
  {
   "cell_type": "markdown",
   "id": "93b9964e-2755-4ce2-a11e-356281abe03c",
   "metadata": {},
   "source": [
    "# SAVING THIS FILE AS CSV"
   ]
  },
  {
   "cell_type": "code",
   "execution_count": 126,
   "id": "d260e1eb-9673-4e67-993f-83338f7f8da0",
   "metadata": {},
   "outputs": [],
   "source": [
    "data.to_csv(\"C:\\\\Users\\\\hp\\\\Desktop\\\\saleswork.csv\")"
   ]
  },
  {
   "cell_type": "code",
   "execution_count": 127,
   "id": "984af2be-e2b0-4a88-a791-8831572cf8b1",
   "metadata": {},
   "outputs": [
    {
     "data": {
      "text/plain": [
       "(128975, 21)"
      ]
     },
     "execution_count": 127,
     "metadata": {},
     "output_type": "execute_result"
    }
   ],
   "source": [
    "data.shape"
   ]
  },
  {
   "cell_type": "markdown",
   "id": "8ea08056-a0bd-4a0a-ad69-d7abfc84d12b",
   "metadata": {},
   "source": [
    "# =========================New Segment"
   ]
  },
  {
   "cell_type": "markdown",
   "id": "4aba452a-f6f0-44b0-ad28-fc8dd071c9e0",
   "metadata": {},
   "source": [
    "# Outliere detetection---Using Box Plot"
   ]
  },
  {
   "cell_type": "code",
   "execution_count": 130,
   "id": "7dd49440-881c-4461-ab25-9c689dc32802",
   "metadata": {},
   "outputs": [
    {
     "name": "stdout",
     "output_type": "stream",
     "text": [
      "                   Order ID       Date                        Status  \\\n",
      "0       405-8078784-5731545 2022-04-30                     Cancelled   \n",
      "1       171-9198151-1101146 2022-04-30  Shipped - Delivered to Buyer   \n",
      "2       404-0687676-7273146 2022-04-30                       Shipped   \n",
      "3       403-9615377-8133951 2022-04-30                     Cancelled   \n",
      "4       407-1069790-7240320 2022-04-30                       Shipped   \n",
      "...                     ...        ...                           ...   \n",
      "128970  406-6001380-7673107 2022-05-31                       Shipped   \n",
      "128971  402-9551604-7544318 2022-05-31                       Shipped   \n",
      "128972  407-9547469-3152358 2022-05-31                       Shipped   \n",
      "128973  402-6184140-0545956 2022-05-31                       Shipped   \n",
      "128974  408-7436540-8728312 2022-05-31                       Shipped   \n",
      "\n",
      "       Fulfilment Sales Channel  ship-service-level    Style              SKU  \\\n",
      "0        Merchant      Amazon.in           Standard   SET389   SET389-KR-NP-S   \n",
      "1        Merchant      Amazon.in           Standard  JNE3781  JNE3781-KR-XXXL   \n",
      "2          Amazon      Amazon.in          Expedited  JNE3371    JNE3371-KR-XL   \n",
      "3        Merchant      Amazon.in           Standard    J0341       J0341-DR-L   \n",
      "4          Amazon      Amazon.in          Expedited  JNE3671  JNE3671-TU-XXXL   \n",
      "...           ...            ...                ...      ...              ...   \n",
      "128970     Amazon      Amazon.in          Expedited  JNE3697    JNE3697-KR-XL   \n",
      "128971     Amazon      Amazon.in          Expedited   SET401   SET401-KR-NP-M   \n",
      "128972     Amazon      Amazon.in          Expedited    J0157     J0157-DR-XXL   \n",
      "128973     Amazon      Amazon.in          Expedited    J0012     J0012-SKD-XS   \n",
      "128974     Amazon      Amazon.in          Expedited    J0003      J0003-SET-S   \n",
      "\n",
      "             Category Size  ... Courier Status Qty  currency   Amount  \\\n",
      "0                 Set    S  ...        Shipped   0       INR   647.62   \n",
      "1               kurta  3XL  ...        Shipped   1       INR   406.00   \n",
      "2               kurta   XL  ...        Shipped   1       INR   329.00   \n",
      "3       Western Dress    L  ...        Shipped   0       INR   753.33   \n",
      "4                 Top  3XL  ...        Shipped   1       INR   574.00   \n",
      "...               ...  ...  ...            ...  ..       ...      ...   \n",
      "128970          kurta   XL  ...        Shipped   1       INR   517.00   \n",
      "128971            Set    M  ...        Shipped   1       INR   999.00   \n",
      "128972  Western Dress  XXL  ...        Shipped   1       INR   690.00   \n",
      "128973            Set   XS  ...        Shipped   1       INR  1199.00   \n",
      "128974            Set    S  ...        Shipped   1       INR   696.00   \n",
      "\n",
      "          ship-city    ship-state ship-postal-code  ship-country  \\\n",
      "0            MUMBAI   MAHARASHTRA           400081            IN   \n",
      "1         BENGALURU     KARNATAKA           560085            IN   \n",
      "2       NAVI MUMBAI   MAHARASHTRA           410210            IN   \n",
      "3        PUDUCHERRY    PUDUCHERRY           605008            IN   \n",
      "4           CHENNAI    TAMIL NADU           600073            IN   \n",
      "...             ...           ...              ...           ...   \n",
      "128970    HYDERABAD     TELANGANA           500013            IN   \n",
      "128971     GURUGRAM       HARYANA           122004            IN   \n",
      "128972    HYDERABAD     TELANGANA           500049            IN   \n",
      "128973        Halol       Gujarat           389350            IN   \n",
      "128974       Raipur  CHHATTISGARH           492014            IN   \n",
      "\n",
      "                                            promotion-ids    B2B  \n",
      "0            IN Core Free Shipping 2015/04/08 23-48-5-108  False  \n",
      "1       Amazon PLCC Free-Financing Universal Merchant ...  False  \n",
      "2            IN Core Free Shipping 2015/04/08 23-48-5-108   True  \n",
      "3            IN Core Free Shipping 2015/04/08 23-48-5-108  False  \n",
      "4            IN Core Free Shipping 2015/04/08 23-48-5-108  False  \n",
      "...                                                   ...    ...  \n",
      "128970       IN Core Free Shipping 2015/04/08 23-48-5-108  False  \n",
      "128971       IN Core Free Shipping 2015/04/08 23-48-5-108  False  \n",
      "128972       IN Core Free Shipping 2015/04/08 23-48-5-108  False  \n",
      "128973       IN Core Free Shipping 2015/04/08 23-48-5-108  False  \n",
      "128974       IN Core Free Shipping 2015/04/08 23-48-5-108  False  \n",
      "\n",
      "[128975 rows x 21 columns]\n"
     ]
    }
   ],
   "source": [
    "print(data)"
   ]
  },
  {
   "cell_type": "code",
   "execution_count": 131,
   "id": "643df2c2-9e2e-4717-b546-f97a5c1df3c4",
   "metadata": {},
   "outputs": [
    {
     "data": {
      "text/plain": [
       "<Axes: xlabel='Amount'>"
      ]
     },
     "execution_count": 131,
     "metadata": {},
     "output_type": "execute_result"
    },
    {
     "data": {
      "image/png": "[encoded data removed]",
      "text/plain": [
       "<Figure size 640x480 with 1 Axes>"
      ]
     },
     "metadata": {},
     "output_type": "display_data"
    }
   ],
   "source": [
    "# plt.figure(figsize=[12,12])\n",
    "\n",
    "sns.boxplot(x = \"Amount\", data = data)"
   ]
  },
  {
   "cell_type": "code",
   "execution_count": 133,
   "id": "b9df41bc-37d9-4480-bf51-099952d61fc4",
   "metadata": {},
   "outputs": [
    {
     "data": {
      "image/png": "[encoded data removed]",
      "text/plain": [
       "<Figure size 640x480 with 1 Axes>"
      ]
     },
     "metadata": {},
     "output_type": "display_data"
    }
   ],
   "source": [
    "ax = sns.countplot(x = \"Courier Status\", data = data)\n",
    "for bar in ax.containers:\n",
    "    ax.bar_label(bar)"
   ]
  },
  {
   "cell_type": "markdown",
   "id": "9c9e8210-b0b8-41ab-804b-f9e2edf79978",
   "metadata": {},
   "source": [
    "#### We can see that most of the order are shipped"
   ]
  },
  {
   "cell_type": "code",
   "execution_count": 135,
   "id": "03a42b99-f858-422d-bcbe-eaca70ad218e",
   "metadata": {},
   "outputs": [
    {
     "data": {
      "image/png": "[encoded data removed]",
      "text/plain": [
       "<Figure size 640x480 with 1 Axes>"
      ]
     },
     "metadata": {},
     "output_type": "display_data"
    }
   ],
   "source": [
    "# plt.figure(figsize=[12,12])\n",
    "ax = sns.countplot(x = \"Courier Status\" , data = data, hue= \"ship-state\", hue_order=[\"MAHARASHTRA\",\"KARNATAKA\",\"TAMIL NADU \",\"TELANGANA \",\"UTTAR PRADESH\"])\n",
    "for bar in ax.containers:\n",
    "    ax.bar_label(bar)"
   ]
  },
  {
   "cell_type": "markdown",
   "id": "6d8391b4-8afa-471a-9fac-2e487bddb840",
   "metadata": {},
   "source": [
    "#### we can see that most order shipped in maharashtra, karnataka and uttrapardesh"
   ]
  },
  {
   "cell_type": "code",
   "execution_count": 137,
   "id": "f2599f07-9b15-4f49-9bb1-4df5eed6b02d",
   "metadata": {},
   "outputs": [
    {
     "data": {
      "image/png": "[encoded data removed]",
      "text/plain": [
       "<Figure size 640x480 with 1 Axes>"
      ]
     },
     "metadata": {},
     "output_type": "display_data"
    }
   ],
   "source": [
    "ax = sns.countplot(x= \"Size\", data = data, order=[\"S\",\"M\",\"L\",\"XL\",\"XXL\",\"3XL\",\"4XL\",\"5XL\",\"6XL\",\"XS\",\"Free\"])\n",
    "for bar in ax.containers:\n",
    "    ax.bar_label(bar)"
   ]
  },
  {
   "cell_type": "markdown",
   "id": "56cc3f93-4af2-4231-b71f-ac43d3834f8f",
   "metadata": {},
   "source": [
    "#### You can see that medium size sell most and then large is also competitor of medium"
   ]
  },
  {
   "cell_type": "code",
   "execution_count": 169,
   "id": "3364c4cb-0fd5-4d24-9b9b-cf05f0ed0bd2",
   "metadata": {},
   "outputs": [
    {
     "data": {
      "text/plain": [
       "<Axes: xlabel='Qty', ylabel='Size'>"
      ]
     },
     "execution_count": 169,
     "metadata": {},
     "output_type": "execute_result"
    },
    {
     "data": {
      "image/png": "[encoded data removed]",
      "text/plain": [
       "<Figure size 640x480 with 1 Axes>"
      ]
     },
     "metadata": {},
     "output_type": "display_data"
    }
   ],
   "source": [
    "ax = data.groupby(\"Size\")[\"Qty\"].sum().sort_values(ascending=False).head(10).reset_index()\n",
    "sns.barplot(y='Size', x='Qty', data=ax, orient=\"h\")"
   ]
  },
  {
   "cell_type": "markdown",
   "id": "61be7068-2ccf-41c0-800d-03412bc5c384",
   "metadata": {},
   "source": [
    "#### we can see that M size clothes quantity buy most"
   ]
  },
  {
   "cell_type": "code",
   "execution_count": 141,
   "id": "6ec3e2c8-8b3c-4360-a919-c78dfb4256c0",
   "metadata": {},
   "outputs": [
    {
     "data": {
      "image/png": "[encoded data removed]",
      "text/plain": [
       "<Figure size 1000x500 with 1 Axes>"
      ]
     },
     "metadata": {},
     "output_type": "display_data"
    }
   ],
   "source": [
    "ax = data[\"Category\"]\n",
    "plt.figure(figsize=(10,5))\n",
    "a = plt.hist(ax, bins=30, color='skyblue', edgecolor='black')\n",
    "plt.xlabel(\"Category of dress\", color = \"green\")\n",
    "plt.show()\n",
    "\n"
   ]
  },
  {
   "cell_type": "markdown",
   "id": "26b37fe4-0cec-43c4-b1aa-71372869e7ce",
   "metadata": {},
   "source": [
    "#### you can see that set and kurta is selling most"
   ]
  },
  {
   "cell_type": "code",
   "execution_count": 185,
   "id": "7c902aa3-9d48-4aa8-a9aa-1dc23c929668",
   "metadata": {},
   "outputs": [],
   "source": [
    "# n = data.groupby(\"ship-city\")[\"Qty\"].sum().sort_values(ascending=False).reset_index()\n",
    "\n",
    "# # Select the top 10 cities by quantity\n",
    "# top_10_cities = n.head(10)\n",
    "\n",
    "# plt.figure(figsize=(12, 8))\n",
    "# sns.barplot(y=\"ship-city\", x=\"Qty\", data=top_10_cities, orient='h')\n",
    "\n",
    "# plt.xlabel(\"Total Quantity\")\n",
    "# plt.ylabel(\"Ship City\")\n",
    "# plt.title(\"Top 10 Cities by Total Quantity Shipped\")\n",
    "\n",
    "# plt.show()\n"
   ]
  },
  {
   "cell_type": "code",
   "execution_count": 181,
   "id": "6d5ba5a5-ca95-4abc-9c30-d8d4d65fcf32",
   "metadata": {},
   "outputs": [
    {
     "data": {
      "image/png": "[encoded data removed]",
      "text/plain": [
       "<Figure size 800x800 with 1 Axes>"
      ]
     },
     "metadata": {},
     "output_type": "display_data"
    }
   ],
   "source": [
    "# Aggregate and prepare data\n",
    "n = data.groupby(\"ship-city\")[\"Qty\"].sum().sort_values(ascending=False).reset_index()\n",
    "\n",
    "# Select the top 10 cities by quantity\n",
    "top_10_cities = n.head(10)\n",
    "\n",
    "# Create a pie chart with total values displayed\n",
    "plt.figure(figsize=(8, 8))\n",
    "\n",
    "# Define a function to format the labels with the quantity values\n",
    "def label_function(pct, all_values):\n",
    "    total = sum(all_values)\n",
    "    value = int(pct / 100. * total)\n",
    "    return f'{value:,}'\n",
    "\n",
    "# Create the pie chart\n",
    "plt.pie(\n",
    "    top_10_cities[\"Qty\"],\n",
    "    labels=top_10_cities[\"ship-city\"],\n",
    "    autopct=lambda pct: label_function(pct, top_10_cities[\"Qty\"]),\n",
    "    startangle=140\n",
    ")\n",
    "plt.title(\"Top 10 Cities by Total Quantity Shipped\")\n",
    "\n",
    "# Show plot\n",
    "plt.show()\n"
   ]
  },
  {
   "cell_type": "markdown",
   "id": "698e5223-29bd-44eb-bc3e-526344d78b06",
   "metadata": {},
   "source": [
    "#### as you can see that most quantity shipped in bengaluru "
   ]
  },
  {
   "cell_type": "code",
   "execution_count": 203,
   "id": "d346edc8-5260-4b09-b95d-44b7a7abfe0d",
   "metadata": {},
   "outputs": [
    {
     "data": {
      "image/png": "[encoded data removed]",
      "text/plain": [
       "<Figure size 1700x700 with 1 Axes>"
      ]
     },
     "metadata": {},
     "output_type": "display_data"
    }
   ],
   "source": [
    "plt.figure(figsize=(17,7))\n",
    "ax = sns.countplot(x=\"Size\",data=data,hue=\"Status\",hue_order=[\"Status\",\"Shipped\",\"Shipped - Delivered to Buyers\",\"Cancelled\",\"Shipped - Returned to Seller\",\"Shipped - Picked Up\",\"Pending\"])"
   ]
  },
  {
   "cell_type": "code",
   "execution_count": 207,
   "id": "07f24cda-471a-4e74-ba60-552b0af2b4c0",
   "metadata": {},
   "outputs": [
    {
     "name": "stderr",
     "output_type": "stream",
     "text": [
      "C:\\Users\\hp\\anaconda3\\Lib\\site-packages\\seaborn\\_oldcore.py:1119: FutureWarning: use_inf_as_na option is deprecated and will be removed in a future version. Convert inf values to NaN before operating instead.\n",
      "  with pd.option_context('mode.use_inf_as_na', True):\n",
      "C:\\Users\\hp\\anaconda3\\Lib\\site-packages\\seaborn\\_oldcore.py:1119: FutureWarning: use_inf_as_na option is deprecated and will be removed in a future version. Convert inf values to NaN before operating instead.\n",
      "  with pd.option_context('mode.use_inf_as_na', True):\n"
     ]
    },
    {
     "data": {
      "image/png": "[encoded data removed]",
      "text/plain": [
       "<Figure size 1200x600 with 1 Axes>"
      ]
     },
     "metadata": {},
     "output_type": "display_data"
    }
   ],
   "source": [
    "data['YearMonth'] = data['Date'].dt.to_period('M')\n",
    "\n",
    "# Group by 'YearMonth' and sum 'Qty'\n",
    "monthly_data = data.groupby('YearMonth')['Qty'].sum().reset_index()\n",
    "\n",
    "# Convert 'YearMonth' to string for plotting\n",
    "monthly_data['YearMonth'] = monthly_data['YearMonth'].astype(str)\n",
    "\n",
    "# Plotting\n",
    "plt.figure(figsize=(12, 6))\n",
    "sns.lineplot(x='YearMonth', y='Qty', data=monthly_data, marker='o')\n",
    "\n",
    "# Customize plot\n",
    "plt.xlabel(\"Month\")\n",
    "plt.ylabel(\"Total Quantity Shipped\")\n",
    "plt.title(\"Monthly Quantity Shipped\")\n",
    "plt.xticks(rotation=45)\n",
    "plt.grid(True)"
   ]
  },
  {
   "cell_type": "code",
   "execution_count": null,
   "id": "c7376584-ce95-482c-966e-c2b3aa032942",
   "metadata": {},
   "outputs": [],
   "source": []
  }
 ],
 "metadata": {
  "kernelspec": {
   "display_name": "Python 3 (ipykernel)",
   "language": "python",
   "name": "python3"
  },
  "language_info": {
   "codemirror_mode": {
    "name": "ipython",
    "version": 3
   },
   "file_extension": ".py",
   "mimetype": "text/x-python",
   "name": "python",
   "nbconvert_exporter": "python",
   "pygments_lexer": "ipython3",
   "version": "3.11.7"
  }
 },
 "nbformat": 4,
 "nbformat_minor": 5
}
